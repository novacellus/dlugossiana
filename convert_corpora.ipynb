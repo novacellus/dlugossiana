{
 "cells": [
  {
   "cell_type": "code",
   "execution_count": 30,
   "id": "86f16f67-161f-4fa3-b804-9ee303444f93",
   "metadata": {
    "tags": []
   },
   "outputs": [],
   "source": [
    "from gensim import corpora\n",
    "corpus_chapters_dictionary = corpora.Dictionary(corpus_chapters)\n",
    "corpus_chapters_lemmas_dictionary = corpora.Dictionary(corpus_chapters_lemmas)\n",
    "corpus_chapters_lemmas_bow =  [corpus_chapters_lemmas_dictionary.doc2bow(chapter) \n",
    "                      for chapter in corpus_chapters_lemmas]"
   ]
  },
  {
   "cell_type": "code",
   "execution_count": 31,
   "id": "8c08da52-18e4-4871-a330-72354f7d43cf",
   "metadata": {
    "tags": []
   },
   "outputs": [],
   "source": [
    "from gensim.models import LdaModel\n",
    "from gensim.models import CoherenceModel\n",
    "\n",
    "# Set training parameters.\n",
    "num_topics = range(10,100,10)\n",
    "chunksize = 2000\n",
    "passes = 20\n",
    "iterations = 400\n",
    "eval_every = None  # Don't evaluate model perplexity, takes too much time.\n",
    "\n",
    "corpus_chapters_lemmas_dictionary.filter_extremes(no_below=5, no_above=0.5)\n",
    "corpus_chapters_lemmas_bow =  [corpus_chapters_lemmas_dictionary.doc2bow(chapter) \n",
    "                      for chapter in corpus_chapters_lemmas]"
   ]
  },
  {
   "cell_type": "code",
   "execution_count": 34,
   "id": "a6849eb3-7ad6-43e0-bdff-eb67f416ef3b",
   "metadata": {
    "tags": []
   },
   "outputs": [],
   "source": [
    "#Doc2Vec\n",
    "import gensim\n",
    "from gensim.models.doc2vec import Doc2Vec, TaggedDocument\n",
    "corpus_chapters_lemmas_tagged = []\n",
    "for i, chapter in enumerate(corpus_chapters_lemmas):\n",
    "    corpus_chapters_lemmas_tagged.append(TaggedDocument(chapter,[i]))\n",
    "doc2vec_model = Doc2Vec()"
   ]
  },
  {
   "cell_type": "code",
   "execution_count": 17,
   "id": "3056461b-67a8-46be-becf-13893144d5a5",
   "metadata": {
    "tags": []
   },
   "outputs": [
    {
     "ename": "NameError",
     "evalue": "name 'corpora' is not defined",
     "output_type": "error",
     "traceback": [
      "\u001b[0;31m---------------------------------------------------------------------------\u001b[0m",
      "\u001b[0;31mNameError\u001b[0m                                 Traceback (most recent call last)",
      "Cell \u001b[0;32mIn[17], line 1\u001b[0m\n\u001b[0;32m----> 1\u001b[0m corpus_chapters_lemmas_reduced_dictionary \u001b[38;5;241m=\u001b[39m \u001b[43mcorpora\u001b[49m\u001b[38;5;241m.\u001b[39mDictionary(corpus_chapters_lemmas_reduced)\n\u001b[1;32m      2\u001b[0m corpus_chapters_lemmas_reduced_bow \u001b[38;5;241m=\u001b[39m  [corpus_chapters_lemmas_reduced_dictionary\u001b[38;5;241m.\u001b[39mdoc2bow(chapter) \n\u001b[1;32m      3\u001b[0m                       \u001b[38;5;28;01mfor\u001b[39;00m chapter \u001b[38;5;129;01min\u001b[39;00m corpus_chapters_lemmas_reduced]\n\u001b[1;32m      4\u001b[0m \u001b[38;5;66;03m#corpus_chapters_lemmas_reduced_dictionary.filter_extremes(no_below=5, no_above=0.5)\u001b[39;00m\n",
      "\u001b[0;31mNameError\u001b[0m: name 'corpora' is not defined"
     ]
    }
   ],
   "source": [
    "corpus_chapters_lemmas_reduced_dictionary = corpora.Dictionary(corpus_chapters_lemmas_reduced)\n",
    "corpus_chapters_lemmas_reduced_bow =  [corpus_chapters_lemmas_reduced_dictionary.doc2bow(chapter) \n",
    "                      for chapter in corpus_chapters_lemmas_reduced]\n",
    "#corpus_chapters_lemmas_reduced_dictionary.filter_extremes(no_below=5, no_above=0.5)"
   ]
  },
  {
   "cell_type": "code",
   "execution_count": null,
   "id": "125d0692-1dd2-4fe5-bdda-5d2524c22659",
   "metadata": {
    "tags": []
   },
   "outputs": [],
   "source": [
    "doc2vec_model.build_vocab(corpus_chapters_lemmas_tagged)\n",
    "doc2vec_model.train(corpus_chapters_lemmas_tagged, total_examples=doc2vec_model.corpus_count, epochs=80)\n",
    "#pprint.pprint(dir(doc2vec_model))\n",
    "#for vec in doc2vec_model.docvecs:\n",
    "#    print(vec)\n",
    "#Similarity()\n",
    "doc2vec_model.save(\"doc2vec_model.model\")"
   ]
  },
  {
   "cell_type": "code",
   "execution_count": 35,
   "id": "12114b5e-f3fe-430e-bedd-703a49e8582f",
   "metadata": {
    "tags": []
   },
   "outputs": [],
   "source": [
    "doc2vec_model = Doc2Vec.load(\"doc2vec_model.model\")"
   ]
  },
  {
   "cell_type": "code",
   "execution_count": 36,
   "id": "139b0cd6-b75d-44d0-a2fd-6708dc892999",
   "metadata": {
    "tags": []
   },
   "outputs": [],
   "source": [
    "import numpy as np\n",
    "doc2vec_sim_dict = {}\n",
    "for doc1 in range(0,2862):\n",
    "    doc2vec_sim_dict[doc1] = []\n",
    "    for doc2 in range(0,2862):\n",
    "        #Iprint(doc1,doc2,doc2vec_model.dv.similarity(doc1,doc2))\n",
    "        doc2vec_sim_dict[doc1].append(doc2vec_model.dv.similarity(doc1,doc2))"
   ]
  },
  {
   "cell_type": "code",
   "execution_count": 37,
   "id": "da25342e-f03f-4224-8325-bce68e1b924a",
   "metadata": {
    "tags": []
   },
   "outputs": [
    {
     "data": {
      "text/html": [
       "<div>\n",
       "<style scoped>\n",
       "    .dataframe tbody tr th:only-of-type {\n",
       "        vertical-align: middle;\n",
       "    }\n",
       "\n",
       "    .dataframe tbody tr th {\n",
       "        vertical-align: top;\n",
       "    }\n",
       "\n",
       "    .dataframe thead th {\n",
       "        text-align: right;\n",
       "    }\n",
       "</style>\n",
       "<table border=\"1\" class=\"dataframe\">\n",
       "  <thead>\n",
       "    <tr style=\"text-align: right;\">\n",
       "      <th></th>\n",
       "      <th>0</th>\n",
       "      <th>1</th>\n",
       "      <th>2</th>\n",
       "      <th>3</th>\n",
       "      <th>4</th>\n",
       "      <th>5</th>\n",
       "      <th>6</th>\n",
       "      <th>7</th>\n",
       "      <th>8</th>\n",
       "      <th>9</th>\n",
       "      <th>...</th>\n",
       "      <th>2852</th>\n",
       "      <th>2853</th>\n",
       "      <th>2854</th>\n",
       "      <th>2855</th>\n",
       "      <th>2856</th>\n",
       "      <th>2857</th>\n",
       "      <th>2858</th>\n",
       "      <th>2859</th>\n",
       "      <th>2860</th>\n",
       "      <th>2861</th>\n",
       "    </tr>\n",
       "  </thead>\n",
       "  <tbody>\n",
       "    <tr>\n",
       "      <th>0</th>\n",
       "      <td>1.000000</td>\n",
       "      <td>0.110009</td>\n",
       "      <td>0.199104</td>\n",
       "      <td>0.163753</td>\n",
       "      <td>0.068473</td>\n",
       "      <td>0.127794</td>\n",
       "      <td>0.147110</td>\n",
       "      <td>0.059990</td>\n",
       "      <td>0.231344</td>\n",
       "      <td>0.251537</td>\n",
       "      <td>...</td>\n",
       "      <td>0.108220</td>\n",
       "      <td>0.286289</td>\n",
       "      <td>0.098305</td>\n",
       "      <td>0.161405</td>\n",
       "      <td>0.078203</td>\n",
       "      <td>0.198006</td>\n",
       "      <td>0.184089</td>\n",
       "      <td>0.191413</td>\n",
       "      <td>0.245562</td>\n",
       "      <td>0.206008</td>\n",
       "    </tr>\n",
       "    <tr>\n",
       "      <th>1</th>\n",
       "      <td>0.110009</td>\n",
       "      <td>1.000000</td>\n",
       "      <td>0.215857</td>\n",
       "      <td>0.328540</td>\n",
       "      <td>0.162539</td>\n",
       "      <td>0.348259</td>\n",
       "      <td>0.080644</td>\n",
       "      <td>0.209057</td>\n",
       "      <td>0.213925</td>\n",
       "      <td>0.141307</td>\n",
       "      <td>...</td>\n",
       "      <td>0.153769</td>\n",
       "      <td>0.118148</td>\n",
       "      <td>0.079633</td>\n",
       "      <td>0.123346</td>\n",
       "      <td>0.016802</td>\n",
       "      <td>-0.041775</td>\n",
       "      <td>-0.026568</td>\n",
       "      <td>0.148927</td>\n",
       "      <td>0.162045</td>\n",
       "      <td>0.123019</td>\n",
       "    </tr>\n",
       "    <tr>\n",
       "      <th>2</th>\n",
       "      <td>0.199104</td>\n",
       "      <td>0.215857</td>\n",
       "      <td>1.000000</td>\n",
       "      <td>0.235703</td>\n",
       "      <td>0.080572</td>\n",
       "      <td>0.035588</td>\n",
       "      <td>0.313075</td>\n",
       "      <td>0.083344</td>\n",
       "      <td>0.176477</td>\n",
       "      <td>0.075927</td>\n",
       "      <td>...</td>\n",
       "      <td>0.087094</td>\n",
       "      <td>-0.025329</td>\n",
       "      <td>-0.098010</td>\n",
       "      <td>0.128838</td>\n",
       "      <td>0.042329</td>\n",
       "      <td>0.034639</td>\n",
       "      <td>0.035918</td>\n",
       "      <td>0.059525</td>\n",
       "      <td>0.059973</td>\n",
       "      <td>0.151561</td>\n",
       "    </tr>\n",
       "    <tr>\n",
       "      <th>3</th>\n",
       "      <td>0.163753</td>\n",
       "      <td>0.328540</td>\n",
       "      <td>0.235703</td>\n",
       "      <td>1.000000</td>\n",
       "      <td>0.431451</td>\n",
       "      <td>0.421854</td>\n",
       "      <td>0.486872</td>\n",
       "      <td>0.328897</td>\n",
       "      <td>0.271161</td>\n",
       "      <td>0.317032</td>\n",
       "      <td>...</td>\n",
       "      <td>0.132208</td>\n",
       "      <td>0.163932</td>\n",
       "      <td>-0.042825</td>\n",
       "      <td>0.053054</td>\n",
       "      <td>0.050501</td>\n",
       "      <td>-0.087090</td>\n",
       "      <td>0.115015</td>\n",
       "      <td>0.060427</td>\n",
       "      <td>0.083079</td>\n",
       "      <td>0.269933</td>\n",
       "    </tr>\n",
       "    <tr>\n",
       "      <th>4</th>\n",
       "      <td>0.068473</td>\n",
       "      <td>0.162539</td>\n",
       "      <td>0.080572</td>\n",
       "      <td>0.431451</td>\n",
       "      <td>1.000000</td>\n",
       "      <td>0.415346</td>\n",
       "      <td>0.408926</td>\n",
       "      <td>0.346522</td>\n",
       "      <td>0.344098</td>\n",
       "      <td>0.393422</td>\n",
       "      <td>...</td>\n",
       "      <td>0.154036</td>\n",
       "      <td>0.042537</td>\n",
       "      <td>0.023236</td>\n",
       "      <td>0.167304</td>\n",
       "      <td>0.058120</td>\n",
       "      <td>0.197434</td>\n",
       "      <td>0.115756</td>\n",
       "      <td>0.073138</td>\n",
       "      <td>0.235667</td>\n",
       "      <td>0.261114</td>\n",
       "    </tr>\n",
       "  </tbody>\n",
       "</table>\n",
       "<p>5 rows × 2862 columns</p>\n",
       "</div>"
      ],
      "text/plain": [
       "       0         1         2         3         4         5         6      \n",
       "0  1.000000  0.110009  0.199104  0.163753  0.068473  0.127794  0.147110  \\\n",
       "1  0.110009  1.000000  0.215857  0.328540  0.162539  0.348259  0.080644   \n",
       "2  0.199104  0.215857  1.000000  0.235703  0.080572  0.035588  0.313075   \n",
       "3  0.163753  0.328540  0.235703  1.000000  0.431451  0.421854  0.486872   \n",
       "4  0.068473  0.162539  0.080572  0.431451  1.000000  0.415346  0.408926   \n",
       "\n",
       "       7         8         9     ...      2852      2853      2854      2855   \n",
       "0  0.059990  0.231344  0.251537  ...  0.108220  0.286289  0.098305  0.161405  \\\n",
       "1  0.209057  0.213925  0.141307  ...  0.153769  0.118148  0.079633  0.123346   \n",
       "2  0.083344  0.176477  0.075927  ...  0.087094 -0.025329 -0.098010  0.128838   \n",
       "3  0.328897  0.271161  0.317032  ...  0.132208  0.163932 -0.042825  0.053054   \n",
       "4  0.346522  0.344098  0.393422  ...  0.154036  0.042537  0.023236  0.167304   \n",
       "\n",
       "       2856      2857      2858      2859      2860      2861  \n",
       "0  0.078203  0.198006  0.184089  0.191413  0.245562  0.206008  \n",
       "1  0.016802 -0.041775 -0.026568  0.148927  0.162045  0.123019  \n",
       "2  0.042329  0.034639  0.035918  0.059525  0.059973  0.151561  \n",
       "3  0.050501 -0.087090  0.115015  0.060427  0.083079  0.269933  \n",
       "4  0.058120  0.197434  0.115756  0.073138  0.235667  0.261114  \n",
       "\n",
       "[5 rows x 2862 columns]"
      ]
     },
     "execution_count": 37,
     "metadata": {},
     "output_type": "execute_result"
    }
   ],
   "source": [
    "import pandas as pd\n",
    "doc2vec_sim_df = pd.DataFrame.from_dict(doc2vec_sim_dict)\n",
    "doc2vec_sim_df.head()"
   ]
  },
  {
   "cell_type": "code",
   "execution_count": null,
   "id": "8481771b-2f0a-40f6-a1d6-beea0a512b59",
   "metadata": {
    "tags": []
   },
   "outputs": [],
   "source": [
    "doc2vec_sim_df.head()\n",
    "doc2vec_sim_df.to_pickle(\"doc2vec_sim_df.df\")"
   ]
  },
  {
   "cell_type": "code",
   "execution_count": 38,
   "id": "cb5d028b-e35e-46d4-a3d3-ab46a9047b3a",
   "metadata": {
    "tags": []
   },
   "outputs": [],
   "source": [
    "doc2vec_sim_df = pd.read_pickle(\"doc2vec_sim_df.df\")"
   ]
  },
  {
   "cell_type": "code",
   "execution_count": null,
   "id": "39138a32-71cf-4784-8d4e-239749e702db",
   "metadata": {
    "tags": []
   },
   "outputs": [],
   "source": [
    "#top similar\n",
    "print(doc2vec_sim_df[1].nlargest(11)[1:11])"
   ]
  },
  {
   "cell_type": "code",
   "execution_count": null,
   "id": "00ecbebe-76dd-434c-8ecd-0066158927a4",
   "metadata": {
    "tags": []
   },
   "outputs": [],
   "source": [
    "most_similar_docs"
   ]
  },
  {
   "cell_type": "code",
   "execution_count": null,
   "id": "0478a4e9-e64b-433f-ac1d-bccfcb6e527a",
   "metadata": {
    "tags": []
   },
   "outputs": [],
   "source": [
    "most_similar_docs = {}\n",
    "for i in doc2vec_sim_df.index:\n",
    "    if i not in most_similar_docs.keys():\n",
    "        most_similar_docs[i] = {}\n",
    "    largest_i = list(doc2vec_sim_df[i].nlargest(11).index)\n",
    "    #print(largest_i)\n",
    "    #most_similar_docs[i] = dict.fromkeys(largest_i, {\"year\":'', \"head\":'',\"text\":''})\n",
    "    #print(most_similar_docs[i])\n",
    "    year = ''\n",
    "    head = ''\n",
    "    text = ''\n",
    "    for n_i in largest_i:\n",
    "        #print(n_i)        \n",
    "        try:\n",
    "            year = search_text_chapter(n_i, \"year\")\n",
    "            \n",
    "        except Exception:\n",
    "            pass\n",
    "        \n",
    "        try:\n",
    "            head = search_text_chapter(n_i, \"head\")\n",
    "        except Exception:\n",
    "            pass\n",
    "        \n",
    "        try:\n",
    "            text = search_text_chapter(n_i, \"text\")\n",
    "        except Exception:\n",
    "            pass\n",
    "        \n",
    "        #print(year)\n",
    "        if n_i not in most_similar_docs[i].keys():\n",
    "            most_similar_docs[i][n_i]={\"year\":None,\"head\":None,\"text\":None}\n",
    "            most_similar_docs[i][n_i][\"year\"] = year\n",
    "            most_similar_docs[i][n_i][\"head\"] = head\n",
    "            most_similar_docs[i][n_i][\"text\"] = text"
   ]
  },
  {
   "cell_type": "code",
   "execution_count": null,
   "id": "1f77e652-aad2-4c09-be03-15ff4e9d4efd",
   "metadata": {
    "tags": []
   },
   "outputs": [],
   "source": [
    "most_similar_docs[1110]"
   ]
  },
  {
   "cell_type": "code",
   "execution_count": null,
   "id": "f57fac53-4272-4371-9980-37b0212a8fe6",
   "metadata": {
    "tags": []
   },
   "outputs": [],
   "source": [
    "search_text_chapter(1,'year')"
   ]
  },
  {
   "cell_type": "code",
   "execution_count": null,
   "id": "3118e240-073c-43d2-91ac-ac05809d1b30",
   "metadata": {
    "tags": []
   },
   "outputs": [],
   "source": [
    "#search_text_chapter(2,\"head\")\n",
    "text_to_all_chapters[2]\n",
    "text_dict_joined[0][2]"
   ]
  },
  {
   "cell_type": "code",
   "execution_count": null,
   "id": "e731e769-2b99-486f-a4da-847fe8652214",
   "metadata": {
    "tags": []
   },
   "outputs": [],
   "source": [
    "list(doc2vec_sim_df[0].nlargest(11).index)"
   ]
  },
  {
   "cell_type": "code",
   "execution_count": null,
   "id": "0b0856f3-cbe7-4526-a669-2b7f80d5ea3e",
   "metadata": {
    "tags": []
   },
   "outputs": [],
   "source": [
    "doc2vec_sim_df[0].nlargest(11)"
   ]
  },
  {
   "cell_type": "code",
   "execution_count": null,
   "id": "44a28052-7e9a-4f1c-8a6e-f2dffa127e30",
   "metadata": {
    "tags": []
   },
   "outputs": [],
   "source": [
    "search_text_chapter(1029,\"year\")"
   ]
  },
  {
   "cell_type": "code",
   "execution_count": null,
   "id": "52e79474-1790-4ba7-864c-af63c4c2238c",
   "metadata": {
    "tags": []
   },
   "outputs": [],
   "source": [
    "#fasttext\n",
    "from gensim.models import FastText\n",
    "fasttext_dlugosz = FastText(vector_size=100, window=3, min_count=1)\n",
    "fasttext_dlugosz.build_vocab(corpus_iterable=corpus_chapters_lemmas_reduced)\n",
    "fasttext_dlugosz.train(corpus_iterable=corpus_chapters_lemmas_reduced, total_examples=len(corpus_chapters_lemmas_reduced), epochs=10)"
   ]
  },
  {
   "cell_type": "code",
   "execution_count": 51,
   "id": "bc24864b-4e2b-4abc-acc6-cad99c55409b",
   "metadata": {
    "tags": []
   },
   "outputs": [],
   "source": [
    "fasttext_dlugosz.wv.similar_by_word('mater')"
   ]
  },
  {
   "cell_type": "code",
   "execution_count": 60,
   "id": "78f18e5d-08f6-4451-9180-f6aec4e1e945",
   "metadata": {
    "tags": []
   },
   "outputs": [
    {
     "data": {
      "text/plain": [
       "(3831393, 4146770)"
      ]
     },
     "execution_count": 60,
     "metadata": {},
     "output_type": "execute_result"
    }
   ],
   "source": [
    "from gensim.models import Word2Vec\n",
    "word2vec_dlugosz = Word2Vec(vector_size=100, window=5, min_count=5)\n",
    "word2vec_dlugosz.build_vocab(corpus_iterable=corpus_chapters_lemmas_reduced)\n",
    "word2vec_dlugosz.train(corpus_iterable=corpus_chapters_lemmas_reduced, total_examples=len(corpus_chapters_lemmas_reduced), epochs=10)"
   ]
  },
  {
   "cell_type": "code",
   "execution_count": 63,
   "id": "e5672eb2-544d-4385-940e-a7e598d021ad",
   "metadata": {
    "tags": []
   },
   "outputs": [
    {
     "data": {
      "text/plain": [
       "[('hilaritas', 0.8831580281257629),\n",
       " ('pompa', 0.8589462041854858),\n",
       " ('exulto', 0.8176324367523193),\n",
       " ('laus', 0.8053409457206726),\n",
       " ('luctus', 0.7904302477836609),\n",
       " ('gratitudo', 0.7743932008743286),\n",
       " ('mirus', 0.7726832628250122),\n",
       " ('honos', 0.7643165588378906),\n",
       " ('celebritas', 0.7610859870910645),\n",
       " ('affero|attulo', 0.755658745765686)]"
      ]
     },
     "execution_count": 63,
     "metadata": {},
     "output_type": "execute_result"
    }
   ],
   "source": [
    "word2vec_dlugosz.wv.similar_by_word('gaudium')"
   ]
  },
  {
   "cell_type": "code",
   "execution_count": 54,
   "id": "b1ccc1f2-edef-4571-9dc8-83a0346fa494",
   "metadata": {
    "tags": []
   },
   "outputs": [
    {
     "data": {
      "text/plain": [
       "[('modestia', 0.979069709777832),\n",
       " ('alioquin', 0.9676833152770996),\n",
       " ('nutus', 0.9661790132522583),\n",
       " ('delictum', 0.9636232256889343),\n",
       " ('sempiternus', 0.9622081518173218),\n",
       " ('inspiro', 0.9600517153739929),\n",
       " ('exhorreo', 0.959796130657196),\n",
       " ('aucupo', 0.9588531851768494),\n",
       " ('benignitas', 0.9572135210037231),\n",
       " ('instinctus', 0.9568875432014465)]"
      ]
     },
     "execution_count": 54,
     "metadata": {},
     "output_type": "execute_result"
    }
   ],
   "source": []
  },
  {
   "cell_type": "code",
   "execution_count": null,
   "id": "7648b66b-f99d-4244-907a-1aabb9869b0d",
   "metadata": {
    "tags": []
   },
   "outputs": [],
   "source": [
    "# Make an index tonlargestctionary.\n",
    "temp = corpus_chapters_lemmas_reduced_dictionary[0]  # This is only to \"load\" the dictionary.\n",
    "id2word = corpus_chapters_lemmas_reduced_dictionary.id2token\n",
    "\n",
    "lda_model_lemmas_reduced = LdaModel(\n",
    "    corpus=corpus_chapters_lemmas_reduced_bow,\n",
    "    id2word=id2word,\n",
    "    chunksize=chunksize,\n",
    "    alpha='auto',\n",
    "    eta='auto',\n",
    "    iterations=iterations,\n",
    "    num_topics=20,\n",
    "    passes=passes,\n",
    "    eval_every=eval_every\n",
    ")"
   ]
  },
  {
   "cell_type": "code",
   "execution_count": 4,
   "id": "64f5142b-e494-439e-a65c-7de06cc60fe8",
   "metadata": {
    "tags": []
   },
   "outputs": [
    {
     "ename": "ModuleNotFoundError",
     "evalue": "No module named 'pyLDAvis'",
     "output_type": "error",
     "traceback": [
      "\u001b[0;31m---------------------------------------------------------------------------\u001b[0m",
      "\u001b[0;31mModuleNotFoundError\u001b[0m                       Traceback (most recent call last)",
      "Cell \u001b[0;32mIn[4], line 1\u001b[0m\n\u001b[0;32m----> 1\u001b[0m \u001b[38;5;28;01mimport\u001b[39;00m \u001b[38;5;21;01mpyLDAvis\u001b[39;00m\n\u001b[1;32m      2\u001b[0m \u001b[38;5;28;01mimport\u001b[39;00m \u001b[38;5;21;01mpyLDAvis\u001b[39;00m\u001b[38;5;21;01m.\u001b[39;00m\u001b[38;5;21;01mgensim_models\u001b[39;00m \u001b[38;5;28;01mas\u001b[39;00m \u001b[38;5;21;01mgensimvis\u001b[39;00m\n\u001b[1;32m      3\u001b[0m pyLDAvis\u001b[38;5;241m.\u001b[39menable_notebook()\n",
      "\u001b[0;31mModuleNotFoundError\u001b[0m: No module named 'pyLDAvis'"
     ]
    }
   ],
   "source": [
    "import pyLDAvis\n",
    "import pyLDAvis.gensim_models as gensimvis\n",
    "pyLDAvis.enable_notebook()\n",
    "vis = gensimvis.prepare(lda_model_lemmas_reduced, corpus_chapters_lemmas_reduced_bow, corpus_chapters_lemmas_reduced_dictionary)\n",
    "vis"
   ]
  },
  {
   "cell_type": "code",
   "execution_count": 5,
   "id": "f582a21d-2403-4bcd-969b-9edc82336436",
   "metadata": {
    "tags": []
   },
   "outputs": [
    {
     "ename": "NameError",
     "evalue": "name 'lda_model_lemmas_reduced' is not defined",
     "output_type": "error",
     "traceback": [
      "\u001b[0;31m---------------------------------------------------------------------------\u001b[0m",
      "\u001b[0;31mNameError\u001b[0m                                 Traceback (most recent call last)",
      "Cell \u001b[0;32mIn[5], line 3\u001b[0m\n\u001b[1;32m      1\u001b[0m \u001b[38;5;28;01mimport\u001b[39;00m \u001b[38;5;21;01mpandas\u001b[39;00m \u001b[38;5;28;01mas\u001b[39;00m \u001b[38;5;21;01mpd\u001b[39;00m\n\u001b[1;32m      2\u001b[0m chapters_topic_dists \u001b[38;5;241m=\u001b[39m{}\n\u001b[0;32m----> 3\u001b[0m \u001b[38;5;28;01mfor\u001b[39;00m i, chapter \u001b[38;5;129;01min\u001b[39;00m \u001b[38;5;28menumerate\u001b[39m(\u001b[43mlda_model_lemmas_reduced\u001b[49m\u001b[38;5;241m.\u001b[39mget_document_topics(corpus_chapters_lemmas_reduced_bow)):\n\u001b[1;32m      4\u001b[0m     chapters_topic_dists[i] \u001b[38;5;241m=\u001b[39m \u001b[38;5;28mdict\u001b[39m\u001b[38;5;241m.\u001b[39mfromkeys(\u001b[38;5;28mrange\u001b[39m(\u001b[38;5;241m0\u001b[39m,\u001b[38;5;241m20\u001b[39m),\u001b[38;5;241m0\u001b[39m)\n\u001b[1;32m      5\u001b[0m     \u001b[38;5;28;01mfor\u001b[39;00m topic, prob \u001b[38;5;129;01min\u001b[39;00m chapter:        \n",
      "\u001b[0;31mNameError\u001b[0m: name 'lda_model_lemmas_reduced' is not defined"
     ]
    }
   ],
   "source": [
    "import pandas as pd\n",
    "chapters_topic_dists ={}\n",
    "for i, chapter in enumerate(lda_model_lemmas_reduced.get_document_topics(corpus_chapters_lemmas_reduced_bow)):\n",
    "    chapters_topic_dists[i] = dict.fromkeys(range(0,20),0)\n",
    "    for topic, prob in chapter:        \n",
    "        chapters_topic_dists[i][topic] = prob\n",
    "#print(chapters_topic_dists)\n",
    "chapters_topic_matrix = pd.DataFrame.from_dict(chapters_topic_dists,orient=\"index\")\n",
    "chapters_topic_matrix.tail()"
   ]
  },
  {
   "cell_type": "code",
   "execution_count": null,
   "id": "b58923b1-ea07-4cc4-8179-1cc235201f14",
   "metadata": {
    "tags": []
   },
   "outputs": [],
   "source": [
    "import matplotlib\n",
    "chapters_topic_matrix.plot()"
   ]
  },
  {
   "cell_type": "code",
   "execution_count": null,
   "id": "4e685ca3-21cb-4061-956b-05665cd6446e",
   "metadata": {
    "tags": []
   },
   "outputs": [],
   "source": [
    "import plotly\n",
    "import plotly.express as px\n",
    "chapters_topic_matrix[\"doc\"] = chapters_topic_matrix.index\n",
    "chapters_topic_matrix_years = { doc:year for doc, year in enumerate(corpus_chapters_lemmas_year) }\n",
    "chapters_topic_matrix[\"year\"] = corpus_chapters_lemmas_year\n",
    "chapters_topic_matrix.head()\n",
    "chapters_topic_matrix_wide = chapters_topic_matrix.melt(id_vars=[\"doc\",\"year\"],var_name=\"topic\")"
   ]
  },
  {
   "cell_type": "code",
   "execution_count": null,
   "id": "f30d6091-56ed-4f68-a7bf-84bdcf127586",
   "metadata": {
    "tags": []
   },
   "outputs": [],
   "source": [
    "len(corpus_chapters_lemmas_year)"
   ]
  },
  {
   "cell_type": "code",
   "execution_count": null,
   "id": "1e62bfc0-6206-46a9-ac25-71609263471f",
   "metadata": {
    "tags": []
   },
   "outputs": [],
   "source": [
    "chapters_topic_matrix_wide = chapters_topic_matrix_wide[chapters_topic_matrix_wide[\"value\"] > 0].sort_values([\"doc\",\"topic\"])\n",
    "chapters_topic_matrix_wide.head()"
   ]
  },
  {
   "cell_type": "code",
   "execution_count": null,
   "id": "5ce51bf8-2784-4e65-ba28-2aa68eb060d5",
   "metadata": {
    "tags": []
   },
   "outputs": [],
   "source": [
    "#px.scatter_matrix(chapters_topic_matrix, x=\"doc\", y=\"value\", color=topic)\n",
    "import plotly\n",
    "import plotly.express as px\n",
    "fig = px.scatter(chapters_topic_matrix_wide[chapters_topic_matrix_wide[\"value\"] >0.5], x=\"doc\", y=\"value\",\n",
    "                 color=\"topic\",\n",
    "                 #size=\"value\",\n",
    "                 facet_col=\"topic\", facet_col_wrap=2, height=2000)\n",
    "#fig.update_layout(yaxis_range=[0.2,1.2])\n",
    "fig.show()"
   ]
  },
  {
   "cell_type": "code",
   "execution_count": null,
   "id": "db8b8ca3-bef7-4e18-bd5f-22665588f143",
   "metadata": {
    "tags": []
   },
   "outputs": [],
   "source": [
    "#px.scatter_matrix(chapters_topic_matrix, x=\"doc\", y=\"value\", color=topic)\n",
    "import plotly\n",
    "import plotly.express as px\n",
    "fig = px.scatter(chapters_topic_matrix_wide[chapters_topic_matrix_wide[\"value\"] >0.3], x=\"year\",\n",
    "                 y=\"value\",\n",
    "                 color=\"topic\",\n",
    "                 #size=\"value\",\n",
    "                 facet_col=\"topic\", facet_col_wrap=2, height=2000)\n",
    "#fig.update_layout(yaxis_range=[0.2,1.2])\n",
    "fig.update_xaxes(categoryorder='array', categoryarray= corpus_chapters_lemmas_year)\n",
    "fig.show()"
   ]
  },
  {
   "cell_type": "code",
   "execution_count": null,
   "id": "a8d16c5c-f321-47bc-84de-59d66a2b195d",
   "metadata": {
    "tags": []
   },
   "outputs": [],
   "source": [
    "import numpy as np\n",
    "import pandas as pd\n",
    "topic_sims = []\n",
    "\n",
    "for similarities in index:\n",
    "    topic_sims.append(similarities)"
   ]
  },
  {
   "cell_type": "code",
   "execution_count": null,
   "id": "7a722087-4afd-4c08-9746-ee71a9a75288",
   "metadata": {
    "tags": []
   },
   "outputs": [],
   "source": [
    "chapters_topic_sim = pd.DataFrame(topic_sims)\n",
    "chapters_topic_sim.head()"
   ]
  },
  {
   "cell_type": "code",
   "execution_count": null,
   "id": "0d92a714-80d4-40a8-8cb4-0341cb792d27",
   "metadata": {
    "tags": []
   },
   "outputs": [],
   "source": [
    "for row in topic_matrix:\n",
    "    print(topic_matrix[row] > 0.5)"
   ]
  },
  {
   "cell_type": "code",
   "execution_count": null,
   "id": "6a139934-033b-4390-847e-ed76f174bbbc",
   "metadata": {
    "tags": []
   },
   "outputs": [],
   "source": [
    "for num_topic in num_topics:\n",
    "    lda_model_lemmas_rednlargested = LdaModel(\n",
    "        corpus=corpus_chapters_lemmas_reduced_bow,\n",
    "        id2word=id2word,\n",
    "        chunksize=chunksize,\n",
    "        alpha='auto',\n",
    "        eta='auto',\n",
    "        iterations=iterations,\n",
    "        num_topics=num_topic,\n",
    "        passes=passes,\n",
    "        eval_every=eval_every\n",
    "    )\n",
    "    coherence_model_lda = CoherenceModel(model=lda_model_lemmas_reduced, texts=corpus_chapters_lemmas_reduced, \n",
    "                                         dictionary=corpus_chapters_lemmas_reduced_dictionary,\n",
    "                                         coherence='c_v')\n",
    "    \n",
    "    print(\"topics: \" + str(num_topic) ,\"coherence: \", coherence_model_lda.get_coherence(), \n",
    "          \"\\tperplexity: \", \n",
    "          lda_model_lemmas_reduced.log_perplexity(corpus_chapters_lemmas_reduced_bow)\n",
    "         )\n",
    "#best results\n",
    "#topics: 10 coherence:  0.4043357272535478 \tperplexity:  -7.509568616109219\n",
    "#topics: 20 coherence:  0.45175391591224745 \tperplexity:  -7.559552059787899\n",
    "#topics: 30 coherence:  0.4145315890018234 \tperplexity:  -7.603553920253678\n",
    "#topics: 40 coherence:  0.41797913503984957 \tperplexity:  -7.663085551756763\n",
    "#topics: 50 coherence:  0.3995843728274568 \tperplexity:  -7.728750670838585"
   ]
  },
  {
   "cell_type": "code",
   "execution_count": null,
   "id": "70dfb52a-0b9c-4cf1-95cc-808dc284c661",
   "metadata": {
    "tags": []
   },
   "outputs": [],
   "source": [
    "pprint.pprint(lda_model_lemmas_reduced)"
   ]
  },
  {
   "cell_type": "code",
   "execution_count": null,
   "id": "4f7818b2-2957-4e06-b146-d959986c4833",
   "metadata": {
    "tags": []
   },
   "outputs": [],
   "source": [
    "coherence_model_lda = CoherenceModel(model=lda_model_lemmas_reduced, texts=corpus_chapters_lemmas_reduced, \n",
    "                                     dictionary=corpus_chapters_lemmas_reduced_dictionary,\n",
    "                                     coherence='c_v')\n",
    "\n",
    "print(\"topics: \" + str(20) ,\"coherence: \", coherence_model_lda.get_coherence(), \n",
    "      \"\\tperplexity: \", \n",
    "      lda_model_lemmas_reduced.log_perplexity(corpus_chapters_lemmas_reduced_bow)\n",
    "     )"
   ]
  },
  {
   "cell_type": "code",
   "execution_count": null,
   "id": "7e72f2a3-fd0d-436a-9fe7-00f7c1627cc8",
   "metadata": {
    "tags": []
   },
   "outputs": [],
   "source": [
    "import pprint\n",
    "#pprint.pprint(lda_model_lemmas_reduced.print_topics())"
   ]
  },
  {
   "cell_type": "code",
   "execution_count": null,
   "id": "439cf782-f516-4a1e-a33c-42f4c0f21569",
   "metadata": {
    "tags": []
   },
   "outputs": [],
   "source": [
    "import pyLDAvis\n",
    "import pyLDAvis.gensim_models as gensimvis\n",
    "pyLDAvis.enable_notebook()\n",
    "vis = gensimvis.prepare(lda_model_lemmas_reduced, corpus_chapters_lemmas_reduced_bow, corpus_chapters_lemmas_reduced_dictionary)\n",
    "vis"
   ]
  },
  {
   "cell_type": "code",
   "execution_count": null,
   "id": "9220ee35-7403-44b4-b214-99c72adc49f9",
   "metadata": {
    "tags": []
   },
   "outputs": [],
   "source": [
    "corpus_chapters_lemmas_dictionary.filter_extremes(no_below=5, no_above=0.5)\n",
    "corpus_chapters_lemmas_bow =  [corpus_chapters_lemmas_dictionary.doc2bow(chapter) \n",
    "                      for chapter in corpus_chapters_lemmas\n",
    "                              ]\n",
    "\n",
    "# Make an index to word dictionary.\n",
    "temp = corpus_chapters_lemmas_dictionary[0]  # This is only to \"load\" the dictionary.\n",
    "id2word = corpus_chapters_lemmas_dictionary.id2token\n",
    "\n",
    "for num_topic in num_topics:\n",
    "    lda_model_lemmas = LdaModel(\n",
    "        corpus=corpus_chapters_lemmas_bow,\n",
    "        id2word=id2word,\n",
    "        chunksize=chunksize,\n",
    "        alpha='auto',\n",
    "        eta='auto',\n",
    "        iterations=iterations,\n",
    "        num_topics=num_topic,\n",
    "        passes=passes,\n",
    "        eval_every=eval_every\n",
    "    )\n",
    "    coherence_model_lda = CoherenceModel(model=lda_model_lemmas, texts=corpus_chapters_lemmas, \n",
    "                                         dictionary=corpus_chapters_lemmas_dictionary,\n",
    "                                         coherence='c_v')\n",
    "    \n",
    "    print(\"topics: \" + str(num_topic) ,\"coherence: \", coherence_model_lda.get_coherence(), \"\\tperplexity: \", \n",
    "          lda_model_lemmas.log_perplexity(corpus_chapters_lemmas_bow))"
   ]
  },
  {
   "cell_type": "code",
   "execution_count": null,
   "id": "68629c0d-1117-4074-bd80-b1316ba1e620",
   "metadata": {
    "tags": []
   },
   "outputs": [],
   "source": [
    "#liber year div/chapter,head,p\n",
    "def check_type(div):\n",
    "    typeof = 'text'  #p div etc\n",
    "    if div.tag == \"head\":\n",
    "        if \"class\" in div.attrib.keys():\n",
    "            if div.attrib[\"class\"] == \"annus\":\n",
    "                typeof='annus'\n",
    "            elif div.attrib[\"class\"] == \"chapter\":\n",
    "                typeof='chapter'\n",
    "            else:\n",
    "                typeof=\"head\"\n",
    "        else:\n",
    "                typeof=\"head\"                \n",
    "    return typeof\n",
    "\n",
    "def process_vrt(raw):\n",
    "    lines = []\n",
    "    for line in [line for line in raw.split(\"\\n\") if line != \"\"]:\n",
    "        tok,pos,lem = None, None, None\n",
    "        cols = line.split('\\t')\n",
    "        if len(cols) == 3:\n",
    "            tok, pos,lem = cols\n",
    "        else:\n",
    "            tok = cols[0]\n",
    "        lines.append((tok,pos,lem))\n",
    "    return lines\n",
    "    #return raw\n",
    "        \n",
    "text_dict = {}\n",
    "#text_dict = {book : {chapter : [{year, typeof, txt}]} }\n",
    "liber = 0\n",
    "for el in root: #liber\n",
    "    year = 0\n",
    "    chapter = None\n",
    "    classes = ['head', 'annus', 'text']\n",
    "    typeof = 'text'\n",
    "    raw_text = ''\n",
    "    \n",
    "    #liber\n",
    "    if \"class\" in el.attrib.keys():\n",
    "        if el.attrib[\"class\"] == 'liber':\n",
    "            liber = int(el.attrib[\"n\"])\n",
    "            text_dict[liber] = dict()\n",
    "            #print(\"liber\",liber)\n",
    "    for ell in el.getchildren():\n",
    "        if \"class\" in el.attrib.keys():\n",
    "            if ell.attrib[\"class\"] == \"year\":\n",
    "                year = ell.attrib[\"n\"]\n",
    "                #print(\"year \", year)\n",
    "                for elll in ell.getchildren():\n",
    "                    if elll.tag == \"head\":\n",
    "                        typeof = check_type(elll)                \n",
    "                        raw_text = elll.text\n",
    "                        \n",
    "                        if chapter is not None:\n",
    "                            chapter += 1\n",
    "                        else:\n",
    "                            chapter = 0\n",
    "                        \n",
    "                        text_dict[liber][chapter] = list()\n",
    "                        text_dict[liber][chapter].append([year, typeof, process_vrt(raw_text)])\n",
    "                            \n",
    "                    elif elll.tag == \"div\":\n",
    "                        if elll.attrib[\"class\"] == \"chapter\":\n",
    "                            if chapter is not None:\n",
    "                                chapter += 1\n",
    "                            else:\n",
    "                                chapter = 0\n",
    "                            #print(\"chapter \", chapter)\n",
    "                            text_dict[liber][chapter] = list()\n",
    "                            for ellll in elll.getchildren():\n",
    "                                typeof = check_type(ellll)\n",
    "                                raw_text = ellll.text\n",
    "                                #print(\"chapter \", chapter)                           \n",
    "                                text_dict[liber][chapter].append([year, typeof, process_vrt(raw_text)])\n",
    "                                \n",
    "                                \n",
    "                    \n",
    "            #chapters under liber 0-1\n",
    "            elif ell.attrib[\"class\"] == \"chapter\":\n",
    "                if chapter is not None:\n",
    "                    chapter += 1\n",
    "                else:\n",
    "                    chapter = 0\n",
    "                text_dict[liber][chapter] = list()\n",
    "                for elll in ell.getchildren():\n",
    "                    typeof = check_type(elll)\n",
    "                    raw_text = elll.text\n",
    "                    text_dict[liber][chapter].append([year, typeof, process_vrt(raw_text)])\n",
    "                    \n",
    "                    #print(\"raw_text \", raw_text)\n",
    "                    #print(\"typeof \", typeof)\n",
    "#print(text_dict[4][5]) #chapter (head, text*) in a single year\n",
    "#print(type(text_dict))\n",
    "\n",
    "docs_by_year = [] \n",
    "docs_by_liber = []"
   ]
  },
  {
   "cell_type": "code",
   "execution_count": 3,
   "id": "6600f929-493e-452a-ab37-257e05452cea",
   "metadata": {
    "tags": []
   },
   "outputs": [
    {
     "ename": "NameError",
     "evalue": "name 'text_dict' is not defined",
     "output_type": "error",
     "traceback": [
      "\u001b[0;31m---------------------------------------------------------------------------\u001b[0m",
      "\u001b[0;31mNameError\u001b[0m                                 Traceback (most recent call last)",
      "Cell \u001b[0;32mIn[3], line 9\u001b[0m\n\u001b[1;32m      6\u001b[0m text_dict_joined \u001b[38;5;241m=\u001b[39m {}\n\u001b[1;32m      8\u001b[0m i \u001b[38;5;241m=\u001b[39m \u001b[38;5;241m0\u001b[39m\n\u001b[0;32m----> 9\u001b[0m \u001b[38;5;28;01mfor\u001b[39;00m liber \u001b[38;5;129;01min\u001b[39;00m \u001b[43mtext_dict\u001b[49m\u001b[38;5;241m.\u001b[39mkeys():\n\u001b[1;32m     10\u001b[0m     \u001b[38;5;28;01mif\u001b[39;00m liber \u001b[38;5;129;01mnot\u001b[39;00m \u001b[38;5;129;01min\u001b[39;00m text_dict_joined\u001b[38;5;241m.\u001b[39mkeys():\n\u001b[1;32m     11\u001b[0m         text_dict_joined[liber] \u001b[38;5;241m=\u001b[39m {}\n",
      "\u001b[0;31mNameError\u001b[0m: name 'text_dict' is not defined"
     ]
    }
   ],
   "source": [
    "docs_by_chapter = [] # list of chapters (liber, chapter, year, tokens)\n",
    "all_by_chapter= [] #all chaps\n",
    "txt_chapt_numbers = []\n",
    "txt_chapt_num_current = []\n",
    "text_to_all_chapters = {} #{chapter : {liber:chapter}} #only texts\n",
    "text_dict_joined = {}\n",
    "\n",
    "i = 0\n",
    "for liber in text_dict.keys():\n",
    "    if liber not in text_dict_joined.keys():\n",
    "        text_dict_joined[liber] = {}\n",
    "    for chapter in text_dict[liber].keys():\n",
    "        if chapter not in text_dict_joined[liber].keys():\n",
    "            text_dict_joined[liber][chapter] = {\"year\":None}\n",
    "            \n",
    "        \n",
    "        chapter_tokens_txt = []\n",
    "        chapter_tokens = []\n",
    "        \n",
    "        for txt_arr in text_dict[liber][chapter]:\n",
    "            text_dict_joined[liber][chapter][\"year\"] = txt_arr[0]\n",
    "            if txt_arr[1] not in text_dict_joined[liber][chapter].keys():\n",
    "                text_dict_joined[liber][chapter][txt_arr[1]] = []\n",
    "            text_dict_joined[liber][chapter][txt_arr[1]].append(' '.join([tok[0] for tok in txt_arr[2]]))\n",
    "            for tok in txt_arr[2]: #iterates over tokens\n",
    "                chapter_tokens.append((liber, chapter, txt_arr[0], txt_arr[1], tok[0], tok[1], tok[2])) #liber,chap, year,token\n",
    "            \n",
    "            if txt_arr[1] == \"text\": #exclude head etc.\n",
    "                if str(liber) + \"_\" + str(chapter) not in txt_chapt_num_current:\n",
    "                    txt_chapt_num_current.append(str(liber) + \"_\" + str(chapter))\n",
    "                    text_to_all_chapters[i] = {liber:chapter}\n",
    "                    i+= 1\n",
    "                for tok in txt_arr[2]: #iterates over tokens\n",
    "                    chapter_tokens_txt.append((liber, chapter, txt_arr[0], tok[0], tok[1], tok[2])) #liber,chap, year,token\n",
    "        if len(chapter_tokens_txt) > 0:\n",
    "            docs_by_chapter.append(chapter_tokens_txt)\n",
    "        all_by_chapter.append(chapter_tokens)"
   ]
  },
  {
   "cell_type": "code",
   "execution_count": 70,
   "id": "4f8ac6d1-4313-4a54-959a-4b24f47a8c11",
   "metadata": {
    "tags": []
   },
   "outputs": [],
   "source": [
    "# corpus files for nltk\n",
    "import os\n",
    "nltk_path=\"src/nltk/\"\n",
    "if not os.path.isdir(nltk_path):\n",
    "    os.mkdir(nltk_path)\n",
    "\n",
    "files_by_chapter = []\n",
    "for i, doc in enumerate(docs_by_chapter):    \n",
    "    #print(i, doc)\n",
    "    sents = []\n",
    "    sent = []\n",
    "    \n",
    "    for j,tok in enumerate(doc):\n",
    "        sent.append(str(tok[3])+'/'+ str(tok[4]) ) #pos tags\n",
    "        if tok[3] == '.' and len(sent) > 0 or j == len(doc)-1:\n",
    "            sents.append(sent)\n",
    "            sent = []\n",
    "            #print(sent)\n",
    "    if len(sents) > 0 :\n",
    "        files_by_chapter.append(sents)   \n",
    "    "
   ]
  },
  {
   "cell_type": "code",
   "execution_count": 71,
   "id": "0528b6bc-4771-400e-a218-124c643d3ffe",
   "metadata": {
    "tags": []
   },
   "outputs": [],
   "source": [
    "for doc_n, doc in enumerate(files_by_chapter):\n",
    "    file = os.path.join(nltk_path,str(doc_n)+ \".txt\")\n",
    "    doc_list = [' '.join(l)+\"\\n\" for l in doc]\n",
    "    with open(file,'w+') as f:\n",
    "        f.writelines(doc_list)"
   ]
  },
  {
   "cell_type": "code",
   "execution_count": 72,
   "id": "835ae4cb-23d1-4826-ba35-09a5f600eb25",
   "metadata": {
    "tags": []
   },
   "outputs": [],
   "source": [
    "chapters_nltk_cats= {}\n",
    "for i in range(0,len(files_by_chapter)):\n",
    "    chapters_nltk_cats[str(i)+\".txt\"] = {\"chapter\":i, \n",
    "                                        \"year\":search_text_chapter(i,\"year\"),\n",
    "                                        \"liber\":search_text_chapter(i,\"liber\")\n",
    "                                   }"
   ]
  },
  {
   "cell_type": "code",
   "execution_count": 73,
   "id": "d2b6399d-9410-47d3-8294-6a0d41274fee",
   "metadata": {
    "tags": []
   },
   "outputs": [],
   "source": [
    "from nltk.corpus.reader import CategorizedTaggedCorpusReader,TaggedCorpusReader\n",
    "chapters_nltk = TaggedCorpusReader(root=nltk_path,fileids=r'^\\d+.txt')\n",
    "chapters_nltk_categorized = CategorizedTaggedCorpusReader(cat_map=chapters_nltk_cats,root=nltk_path,fileids=r'^\\d+.txt')"
   ]
  },
  {
   "cell_type": "code",
   "execution_count": 113,
   "id": "66f4bcec-d544-4978-9c60-34a01f55ed5f",
   "metadata": {
    "tags": []
   },
   "outputs": [],
   "source": [
    "def search_text_chapter(ind,what):\n",
    "    liber, chapter = [(k, text_to_all_chapters[ind][k]) for k in text_to_all_chapters[ind]][0]\n",
    "    if what == 'liber':\n",
    "        return liber\n",
    "    elif what == 'chapter':\n",
    "        return chapter\n",
    "    else:\n",
    "        return text_dict_joined[liber][chapter][what]"
   ]
  },
  {
   "cell_type": "code",
   "execution_count": 114,
   "id": "f14b2ad8-ce12-40d3-a606-e9fae6bdfb36",
   "metadata": {
    "tags": []
   },
   "outputs": [
    {
     "data": {
      "text/plain": [
       "'1107'"
      ]
     },
     "execution_count": 114,
     "metadata": {},
     "output_type": "execute_result"
    }
   ],
   "source": [
    "search_text_chapter(390,\"year\")"
   ]
  },
  {
   "cell_type": "code",
   "execution_count": 115,
   "id": "cbff3463-fdc9-485b-a2d4-3332193dbb72",
   "metadata": {
    "tags": []
   },
   "outputs": [
    {
     "data": {
      "text/plain": [
       "['Studiorum', 'meorum', 'labores', ',', ...]"
      ]
     },
     "execution_count": 115,
     "metadata": {},
     "output_type": "execute_result"
    }
   ],
   "source": [
    "chapters_nltk_categorized.words('1.txt')"
   ]
  },
  {
   "cell_type": "code",
   "execution_count": 2,
   "id": "b7bdaabe-95ca-4ebd-ad32-91e2dd3d86a7",
   "metadata": {
    "tags": []
   },
   "outputs": [
    {
     "ename": "NameError",
     "evalue": "name 'chapters_nltk_categorized' is not defined",
     "output_type": "error",
     "traceback": [
      "\u001b[0;31m---------------------------------------------------------------------------\u001b[0m",
      "\u001b[0;31mNameError\u001b[0m                                 Traceback (most recent call last)",
      "Cell \u001b[0;32mIn[2], line 7\u001b[0m\n\u001b[1;32m      5\u001b[0m year_len_cfd \u001b[38;5;241m=\u001b[39m ConditionalFreqDist()\n\u001b[1;32m      6\u001b[0m liber_len_cfd \u001b[38;5;241m=\u001b[39m ConditionalFreqDist()\n\u001b[0;32m----> 7\u001b[0m \u001b[43mchapters_nltk_categorized\u001b[49m\u001b[38;5;241m.\u001b[39mfileids()\n\u001b[1;32m      8\u001b[0m chapters_word_length \u001b[38;5;241m=\u001b[39m {\u001b[38;5;124m\"\u001b[39m\u001b[38;5;124mby_year\u001b[39m\u001b[38;5;124m\"\u001b[39m : {}, \u001b[38;5;124m\"\u001b[39m\u001b[38;5;124mby_chapter\u001b[39m\u001b[38;5;124m\"\u001b[39m : {}, \u001b[38;5;124m\"\u001b[39m\u001b[38;5;124mby_liber\u001b[39m\u001b[38;5;124m\"\u001b[39m : {}}\n\u001b[1;32m      9\u001b[0m \u001b[38;5;28;01mfor\u001b[39;00m file \u001b[38;5;129;01min\u001b[39;00m chapters_nltk_categorized\u001b[38;5;241m.\u001b[39mfileids():\n",
      "\u001b[0;31mNameError\u001b[0m: name 'chapters_nltk_categorized' is not defined"
     ]
    }
   ],
   "source": [
    "import re\n",
    "from nltk.probability import ConditionalFreqDist\n",
    "word_len_cfd = ConditionalFreqDist()\n",
    "chapter_len_cfd = ConditionalFreqDist()\n",
    "year_len_cfd = ConditionalFreqDist()\n",
    "liber_len_cfd = ConditionalFreqDist()\n",
    "chapters_nltk_categorized.fileids()\n",
    "chapters_word_length = {\"by_year\" : {}, \"by_chapter\" : {}, \"by_liber\" : {}}\n",
    "for file in chapters_nltk_categorized.fileids():\n",
    "    file_id = re.sub(r'\\.txt', '', file)\n",
    "    #print(file_id)\n",
    "    #print(search_text_chapter(int(file_id), \"year\"))\n",
    "    year = search_text_chapter(int(file_id), \"year\")\n",
    "    chapter = search_text_chapter(int(file_id), \"chapter\")\n",
    "    liber = search_text_chapter(int(file_id), \"liber\")\n",
    "    #word_lens = []\n",
    "    for w in chapters_nltk_categorized.words(file):\n",
    "        if w not in [';', ',', '.', '-', '\"', '?', '!']:\n",
    "            word_len_cfd[len(w)][w] +=1\n",
    "            chapter_len_cfd[chapter][len(w)] +=1\n",
    "            year_len_cfd[year][len(w)] +=1\n",
    "            liber_len_cfd[liber][len(w)] +=1"
   ]
  },
  {
   "cell_type": "code",
   "execution_count": 134,
   "id": "ba2b4883-2ff0-424f-b8ba-786e4b971a17",
   "metadata": {
    "tags": []
   },
   "outputs": [],
   "source": [
    "%matplotlib widget\n",
    "#liber_len_cfd.plot()\n",
    "#year_len_cfd.plot()\n",
    "chapter_len_cfd.plot()"
   ]
  },
  {
   "cell_type": "code",
   "execution_count": 1,
   "id": "8ef250a9-42d6-4505-b625-979e5a56eccd",
   "metadata": {
    "tags": []
   },
   "outputs": [
    {
     "ename": "NameError",
     "evalue": "name 'year_len_cfd' is not defined",
     "output_type": "error",
     "traceback": [
      "\u001b[0;31m---------------------------------------------------------------------------\u001b[0m",
      "\u001b[0;31mNameError\u001b[0m                                 Traceback (most recent call last)",
      "Cell \u001b[0;32mIn[1], line 1\u001b[0m\n\u001b[0;32m----> 1\u001b[0m \u001b[43myear_len_cfd\u001b[49m\u001b[38;5;241m.\u001b[39mplot(cumulative\u001b[38;5;241m=\u001b[39m\u001b[38;5;28;01mTrue\u001b[39;00m, conditions\u001b[38;5;241m=\u001b[39m\u001b[38;5;124m\"\u001b[39m\u001b[38;5;124myear\u001b[39m\u001b[38;5;124m\"\u001b[39m)\n",
      "\u001b[0;31mNameError\u001b[0m: name 'year_len_cfd' is not defined"
     ]
    }
   ],
   "source": [
    "year_len_cfd.plot(cumulative=True, conditions=\"year\")"
   ]
  },
  {
   "cell_type": "code",
   "execution_count": 80,
   "id": "a52d66cf-61d5-40a3-92bd-3c4c5ed92095",
   "metadata": {
    "tags": []
   },
   "outputs": [
    {
     "data": {
      "text/plain": [
       "[]"
      ]
     },
     "execution_count": 80,
     "metadata": {},
     "output_type": "execute_result"
    }
   ],
   "source": [
    "#word length\n",
    "chapters_nltk_categorized.categories('chapter')"
   ]
  },
  {
   "cell_type": "code",
   "execution_count": 8,
   "id": "b7aeaf04-92d0-4d9b-85e7-2d2e0e780a97",
   "metadata": {
    "tags": []
   },
   "outputs": [
    {
     "ename": "ModuleNotFoundError",
     "evalue": "No module named 'pyLDAvis'",
     "output_type": "error",
     "traceback": [
      "\u001b[0;31m---------------------------------------------------------------------------\u001b[0m",
      "\u001b[0;31mModuleNotFoundError\u001b[0m                       Traceback (most recent call last)",
      "Cell \u001b[0;32mIn[8], line 1\u001b[0m\n\u001b[0;32m----> 1\u001b[0m \u001b[38;5;28;01mimport\u001b[39;00m \u001b[38;5;21;01mpyLDAvis\u001b[39;00m\n\u001b[1;32m      2\u001b[0m \u001b[38;5;28;01mimport\u001b[39;00m \u001b[38;5;21;01mpyLDAvis\u001b[39;00m\u001b[38;5;21;01m.\u001b[39;00m\u001b[38;5;21;01mgensim_models\u001b[39;00m \u001b[38;5;28;01mas\u001b[39;00m \u001b[38;5;21;01mgensimvis\u001b[39;00m\n\u001b[1;32m      3\u001b[0m pyLDAvis\u001b[38;5;241m.\u001b[39menable_notebook()\n",
      "\u001b[0;31mModuleNotFoundError\u001b[0m: No module named 'pyLDAvis'"
     ]
    }
   ],
   "source": [
    "import pyLDAvis\n",
    "import pyLDAvis.gensim_models as gensimvis\n",
    "pyLDAvis.enable_notebook()\n",
    "vis = gensimvis.prepare(lda_model_lemmas, corpus_chapters_lemmas_bow, corpus_chapters_lemmas_dictionary)\n",
    "vis"
   ]
  },
  {
   "cell_type": "code",
   "execution_count": null,
   "id": "e0e9a1e6-497b-4e41-b8b2-3146493710ea",
   "metadata": {
    "tags": []
   },
   "outputs": [],
   "source": [
    "text_dict[0][2]"
   ]
  },
  {
   "cell_type": "code",
   "execution_count": null,
   "id": "b48cb528-d49a-4f95-8b23-79713ae98988",
   "metadata": {
    "tags": []
   },
   "outputs": [],
   "source": [
    "docs_by_chapter[2862]"
   ]
  },
  {
   "cell_type": "code",
   "execution_count": 11,
   "id": "7c3cbfa9-01ba-4b1e-8f68-eb47b561405e",
   "metadata": {
    "tags": []
   },
   "outputs": [
    {
     "ename": "NameError",
     "evalue": "name 'corpus_chapters' is not defined",
     "output_type": "error",
     "traceback": [
      "\u001b[0;31m---------------------------------------------------------------------------\u001b[0m",
      "\u001b[0;31mNameError\u001b[0m                                 Traceback (most recent call last)",
      "Cell \u001b[0;32mIn[11], line 2\u001b[0m\n\u001b[1;32m      1\u001b[0m corpus_chapter_bow \u001b[38;5;241m=\u001b[39m [corpus_chapters_dictionary\u001b[38;5;241m.\u001b[39mdoc2bow(chapter) \n\u001b[0;32m----> 2\u001b[0m                       \u001b[38;5;28;01mfor\u001b[39;00m chapter \u001b[38;5;129;01min\u001b[39;00m \u001b[43mcorpus_chapters\u001b[49m]\n",
      "\u001b[0;31mNameError\u001b[0m: name 'corpus_chapters' is not defined"
     ]
    }
   ],
   "source": [
    "corpus_chapter_bow = [corpus_chapters_dictionary.doc2bow(chapter) \n",
    "                      for chapter in corpus_chapters]"
   ]
  },
  {
   "cell_type": "code",
   "execution_count": null,
   "id": "93f3f95d-3057-4456-9004-26cea1b6c4e6",
   "metadata": {
    "tags": []
   },
   "outputs": [],
   "source": [
    "corpus_chapter_reduced_bow = [corpus_chapters_reduced_dictionary.doc2bow(chapter) \n",
    "                      for chapter in corpus_chapters]\n",
    "#print(corpus_chapter_bow[0:10])\n",
    "from gensim import models\n",
    "\n",
    "# train the model\n",
    "tfidf = models.TfidfModel(corpus_chapter_reduced_bow)"
   ]
  },
  {
   "cell_type": "code",
   "execution_count": 13,
   "id": "cab8136c-f161-411f-bd91-187ae9e5a642",
   "metadata": {
    "tags": []
   },
   "outputs": [
    {
     "ename": "NameError",
     "evalue": "name 'corpus_chapters_lemmas_reduced_dictionary' is not defined",
     "output_type": "error",
     "traceback": [
      "\u001b[0;31m---------------------------------------------------------------------------\u001b[0m",
      "\u001b[0;31mNameError\u001b[0m                                 Traceback (most recent call last)",
      "Cell \u001b[0;32mIn[13], line 2\u001b[0m\n\u001b[1;32m      1\u001b[0m \u001b[38;5;66;03m# Make an index to word dictionary.\u001b[39;00m\n\u001b[0;32m----> 2\u001b[0m temp \u001b[38;5;241m=\u001b[39m \u001b[43mcorpus_chapters_lemmas_reduced_dictionary\u001b[49m[\u001b[38;5;241m0\u001b[39m]  \u001b[38;5;66;03m# This is only to \"load\" the dictionary.\u001b[39;00m\n\u001b[1;32m      3\u001b[0m id2word \u001b[38;5;241m=\u001b[39m corpus_chapters_lemmas_reduced_dictionary\u001b[38;5;241m.\u001b[39mid2token\n\u001b[1;32m      4\u001b[0m lda_model_lemmas_reduced \u001b[38;5;241m=\u001b[39m LdaModel(\n\u001b[1;32m      5\u001b[0m         corpus\u001b[38;5;241m=\u001b[39mcorpus_chapters_lemmas_reduced_bow,\n\u001b[1;32m      6\u001b[0m         id2word\u001b[38;5;241m=\u001b[39mid2word,\n\u001b[0;32m   (...)\u001b[0m\n\u001b[1;32m     13\u001b[0m         eval_every\u001b[38;5;241m=\u001b[39meval_every\n\u001b[1;32m     14\u001b[0m     )\n",
      "\u001b[0;31mNameError\u001b[0m: name 'corpus_chapters_lemmas_reduced_dictionary' is not defined"
     ]
    }
   ],
   "source": [
    "# Make an index to word dictionary.\n",
    "temp = corpus_chapters_lemmas_reduced_dictionary[0]  # This is only to \"load\" the dictionary.\n",
    "id2word = corpus_chapters_lemmas_reduced_dictionary.id2token\n",
    "lda_model_lemmas_reduced = LdaModel(\n",
    "        corpus=corpus_chapters_lemmas_reduced_bow,\n",
    "        id2word=id2word,\n",
    "        chunksize=chunksize,\n",
    "        alpha='auto',\n",
    "        eta='auto',\n",
    "        iterations=iterations,\n",
    "        num_topics=20,\n",
    "        passes=passes,\n",
    "        eval_every=eval_every\n",
    "    )"
   ]
  },
  {
   "cell_type": "code",
   "execution_count": 14,
   "id": "8482ca80-74f8-4fef-9676-12e57ec4d72b",
   "metadata": {
    "tags": []
   },
   "outputs": [
    {
     "ename": "NameError",
     "evalue": "name 'tfidf' is not defined",
     "output_type": "error",
     "traceback": [
      "\u001b[0;31m---------------------------------------------------------------------------\u001b[0m",
      "\u001b[0;31mNameError\u001b[0m                                 Traceback (most recent call last)",
      "Cell \u001b[0;32mIn[14], line 3\u001b[0m\n\u001b[1;32m      1\u001b[0m \u001b[38;5;66;03m#document similarity - breaks\u001b[39;00m\n\u001b[1;32m      2\u001b[0m \u001b[38;5;28;01mfrom\u001b[39;00m \u001b[38;5;21;01mgensim\u001b[39;00m \u001b[38;5;28;01mimport\u001b[39;00m similarities\n\u001b[0;32m----> 3\u001b[0m index \u001b[38;5;241m=\u001b[39m similarities\u001b[38;5;241m.\u001b[39mSparseMatrixSimilarity(\u001b[43mtfidf\u001b[49m[corpus_chapter_reduced_bow], num_features\u001b[38;5;241m=\u001b[39m\u001b[38;5;241m12\u001b[39m)\n\u001b[1;32m      4\u001b[0m query_document \u001b[38;5;241m=\u001b[39m \u001b[38;5;124m\"\u001b[39m\u001b[38;5;124mgallia est omnis diuisa\u001b[39m\u001b[38;5;124m\"\u001b[39m\u001b[38;5;241m.\u001b[39msplit()\n\u001b[1;32m      5\u001b[0m query_bow \u001b[38;5;241m=\u001b[39m corpus_chapters_reduced_dictionary\u001b[38;5;241m.\u001b[39mdoc2bow(query_document)\n",
      "\u001b[0;31mNameError\u001b[0m: name 'tfidf' is not defined"
     ]
    }
   ],
   "source": [
    "#document similarity - breaks\n",
    "from gensim import similarities\n",
    "index = similarities.SparseMatrixSimilarity(tfidf[corpus_chapter_reduced_bow], num_features=12)\n",
    "query_document = \"gallia est omnis diuisa\".split()\n",
    "query_bow = corpus_chapters_reduced_dictionary.doc2bow(query_document)\n",
    "sims = index[tfidf[query_bow]]\n",
    "#print(list(enumerate(sims)))"
   ]
  },
  {
   "cell_type": "code",
   "execution_count": 15,
   "id": "c5ae8b3d-0b84-4ce5-9918-aac6525db393",
   "metadata": {
    "tags": []
   },
   "outputs": [
    {
     "ename": "NameError",
     "evalue": "name 'dictionary' is not defined",
     "output_type": "error",
     "traceback": [
      "\u001b[0;31m---------------------------------------------------------------------------\u001b[0m",
      "\u001b[0;31mNameError\u001b[0m                                 Traceback (most recent call last)",
      "Cell \u001b[0;32mIn[15], line 13\u001b[0m\n\u001b[1;32m     10\u001b[0m eval_every \u001b[38;5;241m=\u001b[39m \u001b[38;5;28;01mNone\u001b[39;00m  \u001b[38;5;66;03m# Don't evaluate model perplexity, takes too much time.\u001b[39;00m\n\u001b[1;32m     12\u001b[0m \u001b[38;5;66;03m# Make an index to word dictionary.\u001b[39;00m\n\u001b[0;32m---> 13\u001b[0m temp \u001b[38;5;241m=\u001b[39m \u001b[43mdictionary\u001b[49m[\u001b[38;5;241m0\u001b[39m]  \u001b[38;5;66;03m# This is only to \"load\" the dictionary.\u001b[39;00m\n\u001b[1;32m     14\u001b[0m id2word \u001b[38;5;241m=\u001b[39m dictionary\u001b[38;5;241m.\u001b[39mid2token\n\u001b[1;32m     16\u001b[0m model \u001b[38;5;241m=\u001b[39m LdaModel(\n\u001b[1;32m     17\u001b[0m     corpus\u001b[38;5;241m=\u001b[39mcorpus,\n\u001b[1;32m     18\u001b[0m     id2word\u001b[38;5;241m=\u001b[39mid2word,\n\u001b[0;32m   (...)\u001b[0m\n\u001b[1;32m     25\u001b[0m     eval_every\u001b[38;5;241m=\u001b[39meval_every\n\u001b[1;32m     26\u001b[0m )\n",
      "\u001b[0;31mNameError\u001b[0m: name 'dictionary' is not defined"
     ]
    }
   ],
   "source": [
    "# topic modelling\n",
    "# Train LDA model.\n",
    "from gensim.models import LdaModel\n",
    "\n",
    "# Set training parameters.\n",
    "num_topics = 10\n",
    "chunksize = 2000\n",
    "passes = 20\n",
    "iterations = 400\n",
    "eval_every = None  # Don't evaluate model perplexity, takes too much time.\n",
    "\n",
    "# Make an index to word dictionary.\n",
    "temp = dictionary[0]  # This is only to \"load\" the dictionary.\n",
    "id2word = dictionary.id2token\n",
    "\n",
    "model = LdaModel(\n",
    "    corpus=corpus,\n",
    "    id2word=id2word,\n",
    "    chunksize=chunksize,\n",
    "    alpha='auto',\n",
    "    eta='auto',\n",
    "    iterations=iterations,\n",
    "    num_topics=num_topics,\n",
    "    passes=passes,\n",
    "    eval_every=eval_every\n",
    ")"
   ]
  },
  {
   "cell_type": "code",
   "execution_count": 16,
   "id": "5ca55d27-93cb-4564-8bef-9bf52c823051",
   "metadata": {
    "tags": []
   },
   "outputs": [
    {
     "ename": "ModuleNotFoundError",
     "evalue": "No module named 'lexicalrichness'",
     "output_type": "error",
     "traceback": [
      "\u001b[0;31m---------------------------------------------------------------------------\u001b[0m",
      "\u001b[0;31mModuleNotFoundError\u001b[0m                       Traceback (most recent call last)",
      "Cell \u001b[0;32mIn[16], line 2\u001b[0m\n\u001b[1;32m      1\u001b[0m \u001b[38;5;66;03m# lexical richness\u001b[39;00m\n\u001b[0;32m----> 2\u001b[0m \u001b[38;5;28;01mfrom\u001b[39;00m \u001b[38;5;21;01mlexicalrichness\u001b[39;00m \u001b[38;5;28;01mimport\u001b[39;00m LexicalRichness\n\u001b[1;32m      3\u001b[0m lex_rich \u001b[38;5;241m=\u001b[39m  LexicalRichness([tok \u001b[38;5;28;01mfor\u001b[39;00m chap \u001b[38;5;129;01min\u001b[39;00m corpus_chapters \u001b[38;5;28;01mfor\u001b[39;00m tok \u001b[38;5;129;01min\u001b[39;00m chap ], preprocessor\u001b[38;5;241m=\u001b[39m\u001b[38;5;28;01mNone\u001b[39;00m, tokenizer\u001b[38;5;241m=\u001b[39m\u001b[38;5;28;01mNone\u001b[39;00m)\n",
      "\u001b[0;31mModuleNotFoundError\u001b[0m: No module named 'lexicalrichness'"
     ]
    }
   ],
   "source": [
    "# lexical richness\n",
    "from lexicalrichness import LexicalRichness\n",
    "lex_rich =  LexicalRichness([tok for chap in corpus_chapters for tok in chap ], preprocessor=None, tokenizer=None)"
   ]
  },
  {
   "cell_type": "code",
   "execution_count": 17,
   "id": "707fc83b-d3c7-43c2-97d7-beb1107518a0",
   "metadata": {
    "tags": []
   },
   "outputs": [
    {
     "ename": "NameError",
     "evalue": "name 'lex_rich' is not defined",
     "output_type": "error",
     "traceback": [
      "\u001b[0;31m---------------------------------------------------------------------------\u001b[0m",
      "\u001b[0;31mNameError\u001b[0m                                 Traceback (most recent call last)",
      "Cell \u001b[0;32mIn[17], line 1\u001b[0m\n\u001b[0;32m----> 1\u001b[0m \u001b[43mlex_rich\u001b[49m\u001b[38;5;241m.\u001b[39mmtld()\n",
      "\u001b[0;31mNameError\u001b[0m: name 'lex_rich' is not defined"
     ]
    }
   ],
   "source": [
    "lex_rich.mtld()"
   ]
  },
  {
   "cell_type": "code",
   "execution_count": 18,
   "id": "520b1c7b-9bad-4d1f-ab47-1dcb82dcf58e",
   "metadata": {
    "tags": []
   },
   "outputs": [
    {
     "ename": "NameError",
     "evalue": "name 'lex_rich' is not defined",
     "output_type": "error",
     "traceback": [
      "\u001b[0;31m---------------------------------------------------------------------------\u001b[0m",
      "\u001b[0;31mNameError\u001b[0m                                 Traceback (most recent call last)",
      "Cell \u001b[0;32mIn[18], line 1\u001b[0m\n\u001b[0;32m----> 1\u001b[0m \u001b[43mlex_rich\u001b[49m\u001b[38;5;241m.\u001b[39mmattr()\n",
      "\u001b[0;31mNameError\u001b[0m: name 'lex_rich' is not defined"
     ]
    }
   ],
   "source": [
    "lex_rich.mattr()"
   ]
  },
  {
   "cell_type": "code",
   "execution_count": 19,
   "id": "6df352ba-121d-4005-a67c-2cbab6812b83",
   "metadata": {
    "tags": []
   },
   "outputs": [
    {
     "ename": "NameError",
     "evalue": "name 'lex_rich' is not defined",
     "output_type": "error",
     "traceback": [
      "\u001b[0;31m---------------------------------------------------------------------------\u001b[0m",
      "\u001b[0;31mNameError\u001b[0m                                 Traceback (most recent call last)",
      "Cell \u001b[0;32mIn[19], line 1\u001b[0m\n\u001b[0;32m----> 1\u001b[0m \u001b[43mlex_rich\u001b[49m\u001b[38;5;241m.\u001b[39mvocd_fig()\n",
      "\u001b[0;31mNameError\u001b[0m: name 'lex_rich' is not defined"
     ]
    }
   ],
   "source": [
    "lex_rich.vocd_fig()"
   ]
  },
  {
   "cell_type": "code",
   "execution_count": 20,
   "id": "70f5c50f-8b9a-4826-a03f-7a85b70cda40",
   "metadata": {
    "tags": []
   },
   "outputs": [
    {
     "ename": "NameError",
     "evalue": "name 'corpus_chapters' is not defined",
     "output_type": "error",
     "traceback": [
      "\u001b[0;31m---------------------------------------------------------------------------\u001b[0m",
      "\u001b[0;31mNameError\u001b[0m                                 Traceback (most recent call last)",
      "Cell \u001b[0;32mIn[20], line 1\u001b[0m\n\u001b[0;32m----> 1\u001b[0m \u001b[38;5;28mlen\u001b[39m([ chap \u001b[38;5;28;01mfor\u001b[39;00m chap \u001b[38;5;129;01min\u001b[39;00m \u001b[43mcorpus_chapters\u001b[49m ])\n",
      "\u001b[0;31mNameError\u001b[0m: name 'corpus_chapters' is not defined"
     ]
    }
   ],
   "source": [
    "len([ chap for chap in corpus_chapters ])"
   ]
  },
  {
   "cell_type": "code",
   "execution_count": null,
   "id": "8a78d820-fb7e-4c6c-bbb1-a0c8776fd0d6",
   "metadata": {},
   "outputs": [],
   "source": []
  },
  {
   "cell_type": "code",
   "execution_count": 21,
   "id": "d33283f6-6103-4984-9c25-a1e6ad0c729a",
   "metadata": {
    "tags": []
   },
   "outputs": [
    {
     "ename": "NameError",
     "evalue": "name 'corpus_chapters' is not defined",
     "output_type": "error",
     "traceback": [
      "\u001b[0;31m---------------------------------------------------------------------------\u001b[0m",
      "\u001b[0;31mNameError\u001b[0m                                 Traceback (most recent call last)",
      "Cell \u001b[0;32mIn[21], line 1\u001b[0m\n\u001b[0;32m----> 1\u001b[0m \u001b[43mcorpus_chapters\u001b[49m[\u001b[38;5;241m0\u001b[39m]\n",
      "\u001b[0;31mNameError\u001b[0m: name 'corpus_chapters' is not defined"
     ]
    }
   ],
   "source": [
    "corpus_chapters[0]"
   ]
  },
  {
   "cell_type": "code",
   "execution_count": 22,
   "id": "3b0ef4d1-c1ca-4c9a-9345-b36657da4ffa",
   "metadata": {
    "tags": []
   },
   "outputs": [
    {
     "ename": "NameError",
     "evalue": "name 'corpus_chapters' is not defined",
     "output_type": "error",
     "traceback": [
      "\u001b[0;31m---------------------------------------------------------------------------\u001b[0m",
      "\u001b[0;31mNameError\u001b[0m                                 Traceback (most recent call last)",
      "Cell \u001b[0;32mIn[22], line 1\u001b[0m\n\u001b[0;32m----> 1\u001b[0m \u001b[43mcorpus_chapters\u001b[49m[\u001b[38;5;241m0\u001b[39m]\n",
      "\u001b[0;31mNameError\u001b[0m: name 'corpus_chapters' is not defined"
     ]
    }
   ],
   "source": [
    "corpus_chapters[0]"
   ]
  },
  {
   "cell_type": "code",
   "execution_count": 390,
   "id": "8228cd53-1f5d-497f-bdb9-40a92ab44351",
   "metadata": {},
   "outputs": [
    {
     "ename": "TypeError",
     "evalue": "CorpusReader.__init__() missing 2 required positional arguments: 'root' and 'fileids'",
     "output_type": "error",
     "traceback": [
      "\u001b[0;31m---------------------------------------------------------------------------\u001b[0m",
      "\u001b[0;31mTypeError\u001b[0m                                 Traceback (most recent call last)",
      "Cell \u001b[0;32mIn[390], line 1\u001b[0m\n\u001b[0;32m----> 1\u001b[0m a\u001b[38;5;241m=\u001b[39m CorpusFromList()\n",
      "\u001b[0;31mTypeError\u001b[0m: CorpusReader.__init__() missing 2 required positional arguments: 'root' and 'fileids'"
     ]
    }
   ],
   "source": [
    "a = CorpusFromList()"
   ]
  },
  {
   "cell_type": "code",
   "execution_count": null,
   "id": "f754a378-4e2f-45a5-bd3a-55a89757fdc1",
   "metadata": {},
   "outputs": [],
   "source": [
    "#TODO\n",
    "#keywords: https://radimrehurek.com/gensim/similarities/termsim.html\n",
    "#formularność: ngrams\n",
    "#stylistics?"
   ]
  }
 ],
 "metadata": {
  "kernelspec": {
   "display_name": "Python 3 (ipykernel)",
   "language": "python",
   "name": "python3"
  },
  "language_info": {
   "codemirror_mode": {
    "name": "ipython",
    "version": 3
   },
   "file_extension": ".py",
   "mimetype": "text/x-python",
   "name": "python",
   "nbconvert_exporter": "python",
   "pygments_lexer": "ipython3",
   "version": "3.10.10"
  }
 },
 "nbformat": 4,
 "nbformat_minor": 5
}
